{
 "cells": [
  {
   "cell_type": "markdown",
   "id": "b2a2b739",
   "metadata": {},
   "source": [
    "## Manipulating Recommender Dataset with Apache Spark"
   ]
  },
  {
   "cell_type": "code",
   "execution_count": 1,
   "id": "1a7a51a3",
   "metadata": {},
   "outputs": [
    {
     "name": "stdout",
     "output_type": "stream",
     "text": [
      "22/07/03 18:24:44 WARN Utils: Your hostname, Sruthys-MacBook-Air.local resolves to a loopback address: 127.0.0.1; using 192.168.0.103 instead (on interface en0)\n",
      "22/07/03 18:24:44 WARN Utils: Set SPARK_LOCAL_IP if you need to bind to another address\n"
     ]
    },
    {
     "name": "stderr",
     "output_type": "stream",
     "text": [
      "Setting default log level to \"WARN\".\n",
      "To adjust logging level use sc.setLogLevel(newLevel). For SparkR, use setLogLevel(newLevel).\n"
     ]
    },
    {
     "name": "stdout",
     "output_type": "stream",
     "text": [
      "22/07/03 18:24:45 WARN NativeCodeLoader: Unable to load native-hadoop library for your platform... using builtin-java classes where applicable\n"
     ]
    }
   ],
   "source": [
    "#Import required libraries\n",
    "import pyspark\n",
    "from pyspark import SparkContext\n",
    "from pyspark.sql import SparkSession\n",
    "from pyspark.sql.functions import *\n",
    "from pyspark.sql import functions as f\n",
    "from pyspark.sql.functions import datediff,col\n",
    "from pyspark.sql.types import IntegerType\n",
    "from pyspark.sql.functions import when\n",
    "from pyspark.sql.window import Window\n",
    "from pyspark.sql.functions import lag \n",
    "\n",
    "#Initialize spark context and session\n",
    "sc = SparkContext()\n",
    "\n",
    "spark = SparkSession.builder.appName(\"movie\").getOrCreate()"
   ]
  },
  {
   "cell_type": "code",
   "execution_count": 2,
   "id": "8d3cd98c",
   "metadata": {},
   "outputs": [
    {
     "name": "stderr",
     "output_type": "stream",
     "text": [
      "                                                                                \r"
     ]
    }
   ],
   "source": [
    "#Reading the tags file\n",
    "df = spark.read.format(\"csv\").option(\"delimiter\", \"::\").load(\"Desktop/Sem2/tags.dat\")\n",
    "\n"
   ]
  },
  {
   "cell_type": "code",
   "execution_count": 3,
   "id": "84ef7606",
   "metadata": {},
   "outputs": [
    {
     "name": "stdout",
     "output_type": "stream",
     "text": [
      "+---+-----+--------------------+----------+\n",
      "|_c0|  _c1|                 _c2|       _c3|\n",
      "+---+-----+--------------------+----------+\n",
      "| 15| 4973|          excellent!|1215184630|\n",
      "| 20| 1747|            politics|1188263867|\n",
      "| 20| 1747|              satire|1188263867|\n",
      "| 20| 2424|     chick flick 212|1188263835|\n",
      "| 20| 2424|               hanks|1188263835|\n",
      "| 20| 2424|                ryan|1188263835|\n",
      "| 20| 2947|              action|1188263755|\n",
      "| 20| 2947|                bond|1188263756|\n",
      "| 20| 3033|               spoof|1188263880|\n",
      "| 20| 3033|           star wars|1188263880|\n",
      "| 20| 7438|              bloody|1188263801|\n",
      "| 20| 7438|             kung fu|1188263801|\n",
      "| 20| 7438|           Tarantino|1188263801|\n",
      "| 21|55247|                   R|1205081506|\n",
      "| 21|55253|               NC-17|1205081488|\n",
      "| 25|   50|        Kevin Spacey|1166101426|\n",
      "| 25| 6709|         Johnny Depp|1162147221|\n",
      "| 31|   65|        buddy comedy|1188263759|\n",
      "| 31|  546|strangely compelling|1188263674|\n",
      "| 31| 1091|         catastrophe|1188263741|\n",
      "+---+-----+--------------------+----------+\n",
      "only showing top 20 rows\n",
      "\n"
     ]
    }
   ],
   "source": [
    "df.show()"
   ]
  },
  {
   "cell_type": "code",
   "execution_count": 4,
   "id": "86821dd3",
   "metadata": {},
   "outputs": [],
   "source": [
    "#Changing the column names\n",
    "\n",
    "df2 = df.withColumnRenamed(\"_c0\",\"UserID\").withColumnRenamed(\"_c1\",\"MovieID\").withColumnRenamed(\"_c2\",\"Tag\").withColumnRenamed(\"_c3\",\"Timestamp\")\n"
   ]
  },
  {
   "cell_type": "code",
   "execution_count": 5,
   "id": "04414be8",
   "metadata": {},
   "outputs": [
    {
     "name": "stdout",
     "output_type": "stream",
     "text": [
      "root\n",
      " |-- UserID: string (nullable = true)\n",
      " |-- MovieID: string (nullable = true)\n",
      " |-- Tag: string (nullable = true)\n",
      " |-- Timestamp: string (nullable = true)\n",
      "\n"
     ]
    }
   ],
   "source": [
    "\n",
    "df2.printSchema()"
   ]
  },
  {
   "cell_type": "code",
   "execution_count": 6,
   "id": "c6970020",
   "metadata": {},
   "outputs": [
    {
     "name": "stdout",
     "output_type": "stream",
     "text": [
      "+------+-------+--------------------+----------+\n",
      "|UserID|MovieID|                 Tag| Timestamp|\n",
      "+------+-------+--------------------+----------+\n",
      "|    15|   4973|          excellent!|1215184630|\n",
      "|    20|   1747|            politics|1188263867|\n",
      "|    20|   1747|              satire|1188263867|\n",
      "|    20|   2424|     chick flick 212|1188263835|\n",
      "|    20|   2424|               hanks|1188263835|\n",
      "|    20|   2424|                ryan|1188263835|\n",
      "|    20|   2947|              action|1188263755|\n",
      "|    20|   2947|                bond|1188263756|\n",
      "|    20|   3033|               spoof|1188263880|\n",
      "|    20|   3033|           star wars|1188263880|\n",
      "|    20|   7438|              bloody|1188263801|\n",
      "|    20|   7438|             kung fu|1188263801|\n",
      "|    20|   7438|           Tarantino|1188263801|\n",
      "|    21|  55247|                   R|1205081506|\n",
      "|    21|  55253|               NC-17|1205081488|\n",
      "|    25|     50|        Kevin Spacey|1166101426|\n",
      "|    25|   6709|         Johnny Depp|1162147221|\n",
      "|    31|     65|        buddy comedy|1188263759|\n",
      "|    31|    546|strangely compelling|1188263674|\n",
      "|    31|   1091|         catastrophe|1188263741|\n",
      "+------+-------+--------------------+----------+\n",
      "only showing top 20 rows\n",
      "\n"
     ]
    }
   ],
   "source": [
    "df2.show()"
   ]
  },
  {
   "cell_type": "code",
   "execution_count": 7,
   "id": "041a390d",
   "metadata": {},
   "outputs": [],
   "source": [
    "#Change the column to timestamp. The time is originally in unix format\n",
    "#I converted it from string to timestamp type\n",
    "\n",
    "df3 = df2.withColumn(\"Timestamp\",f.from_unixtime(df2[\"Timestamp\"]).cast(\"timestamp\"))\n",
    "\n"
   ]
  },
  {
   "cell_type": "code",
   "execution_count": 8,
   "id": "e9331a9f",
   "metadata": {},
   "outputs": [
    {
     "name": "stdout",
     "output_type": "stream",
     "text": [
      "+------+-------+--------------------+-------------------+\n",
      "|UserID|MovieID|                 Tag|          Timestamp|\n",
      "+------+-------+--------------------+-------------------+\n",
      "|    15|   4973|          excellent!|2008-07-04 17:17:10|\n",
      "|    20|   1747|            politics|2007-08-28 03:17:47|\n",
      "|    20|   1747|              satire|2007-08-28 03:17:47|\n",
      "|    20|   2424|     chick flick 212|2007-08-28 03:17:15|\n",
      "|    20|   2424|               hanks|2007-08-28 03:17:15|\n",
      "|    20|   2424|                ryan|2007-08-28 03:17:15|\n",
      "|    20|   2947|              action|2007-08-28 03:15:55|\n",
      "|    20|   2947|                bond|2007-08-28 03:15:56|\n",
      "|    20|   3033|               spoof|2007-08-28 03:18:00|\n",
      "|    20|   3033|           star wars|2007-08-28 03:18:00|\n",
      "|    20|   7438|              bloody|2007-08-28 03:16:41|\n",
      "|    20|   7438|             kung fu|2007-08-28 03:16:41|\n",
      "|    20|   7438|           Tarantino|2007-08-28 03:16:41|\n",
      "|    21|  55247|                   R|2008-03-09 17:51:46|\n",
      "|    21|  55253|               NC-17|2008-03-09 17:51:28|\n",
      "|    25|     50|        Kevin Spacey|2006-12-14 14:03:46|\n",
      "|    25|   6709|         Johnny Depp|2006-10-29 19:40:21|\n",
      "|    31|     65|        buddy comedy|2007-08-28 03:15:59|\n",
      "|    31|    546|strangely compelling|2007-08-28 03:14:34|\n",
      "|    31|   1091|         catastrophe|2007-08-28 03:15:41|\n",
      "+------+-------+--------------------+-------------------+\n",
      "only showing top 20 rows\n",
      "\n"
     ]
    }
   ],
   "source": [
    "df3.show()\n"
   ]
  },
  {
   "cell_type": "markdown",
   "id": "89ba7b79",
   "metadata": {},
   "source": [
    "The dataframe represents the tag given by different users for different movies in different timestamps.\n",
    "\n",
    "A tagging session for a user can be defined as the duration in which he/she generated tagging\n",
    "activities. Typically, an inactive duration of 30 mins is considered as a termination of the tagging\n",
    "session. Our task is to separate out tagging sessions for each user. \n",
    "\n",
    "First we group the timestamps for each user using window function. Then the prev timestamps are taken \n",
    "and put in another column for each window for each user using lag function. \n",
    "So for the first entry in a window, lag would be null."
   ]
  },
  {
   "cell_type": "code",
   "execution_count": 9,
   "id": "da7be6d5",
   "metadata": {},
   "outputs": [],
   "source": [
    "w = Window().partitionBy(\"UserID\").orderBy(\"Timestamp\")\n"
   ]
  },
  {
   "cell_type": "code",
   "execution_count": 10,
   "id": "c7afbacb",
   "metadata": {},
   "outputs": [],
   "source": [
    "#Lag column containes the prev timestamp\n",
    "\n",
    "df4 = df3.withColumn(\"lag\",lag(\"Timestamp\",1).over(w)) \\\n",
    "      "
   ]
  },
  {
   "cell_type": "code",
   "execution_count": 11,
   "id": "b4a745c6",
   "metadata": {},
   "outputs": [
    {
     "name": "stderr",
     "output_type": "stream",
     "text": [
      "[Stage 6:>                                                          (0 + 1) / 1]\r"
     ]
    },
    {
     "name": "stdout",
     "output_type": "stream",
     "text": [
      "+------+-------+----------------+-------------------+-------------------+--------+\n",
      "|UserID|MovieID|             Tag|          Timestamp|                lag|timediff|\n",
      "+------+-------+----------------+-------------------+-------------------+--------+\n",
      "|  1000|    277|children's story|2007-08-31 06:05:11|               null|    null|\n",
      "|  1000|   1994|    sci-fi. dark|2007-08-31 06:05:36|2007-08-31 06:05:11|      25|\n",
      "|  1000|   5377|         romance|2007-08-31 06:05:50|2007-08-31 06:05:36|      14|\n",
      "|  1000|   7147|    family bonds|2007-08-31 06:06:01|2007-08-31 06:05:50|      11|\n",
      "|  1000|    362|animated classic|2007-08-31 06:06:11|2007-08-31 06:06:01|      10|\n",
      "|  1000|    276|          family|2007-08-31 06:07:15|2007-08-31 06:06:11|      64|\n",
      "| 10003|  42013|        Passable|2006-06-16 06:33:55|               null|    null|\n",
      "| 10003|  51662|  FIOS on demand|2008-04-12 00:35:26|2006-06-16 06:33:55|57520891|\n",
      "| 10003|  54997|  FIOS on demand|2008-04-12 00:35:35|2008-04-12 00:35:26|       9|\n",
      "| 10003|  55765|  FIOS on demand|2008-04-12 00:35:42|2008-04-12 00:35:35|       7|\n",
      "| 10003|  55363|  FIOS on demand|2008-04-12 00:37:00|2008-04-12 00:35:42|      78|\n",
      "| 10003|  56152|  FIOS on demand|2008-04-12 00:38:46|2008-04-12 00:37:00|     106|\n",
      "| 10003|  55116|  FIOS on demand|2008-04-12 00:40:36|2008-04-12 00:38:46|     110|\n",
      "| 10003|  56174|  FIOS on demand|2008-04-12 00:41:10|2008-04-12 00:40:36|      34|\n",
      "| 10003|  55176|  FIOS on demand|2008-04-12 00:42:35|2008-04-12 00:41:10|      85|\n",
      "| 10003|  55247|  FIOS on demand|2008-04-12 00:42:36|2008-04-12 00:42:35|       1|\n",
      "| 10003|  54881|  FIOS on demand|2008-04-12 00:42:38|2008-04-12 00:42:36|       2|\n",
      "| 10003|  55820|  FIOS on demand|2008-04-12 00:44:33|2008-04-12 00:42:38|     115|\n",
      "| 10003|  53123|  FIOS on demand|2008-04-12 00:44:35|2008-04-12 00:44:33|       2|\n",
      "| 10003|  53550|  FIOS on demand|2008-04-12 00:45:37|2008-04-12 00:44:35|      62|\n",
      "+------+-------+----------------+-------------------+-------------------+--------+\n",
      "only showing top 20 rows\n",
      "\n"
     ]
    },
    {
     "name": "stderr",
     "output_type": "stream",
     "text": [
      "                                                                                \r"
     ]
    }
   ],
   "source": [
    "#Calculate the time difference between the lag and the current timestamp.\n",
    "#The time difference is also displayed in another column\n",
    "\n",
    "df5 = df4.withColumn(\"timediff\", col(\"Timestamp\").cast(\"long\")-col(\"lag\").cast(\"long\"))\n",
    "df5.show(20)"
   ]
  },
  {
   "cell_type": "code",
   "execution_count": 12,
   "id": "92e7c432",
   "metadata": {},
   "outputs": [],
   "source": [
    "#Replacing the null time difference values with 0 as they represent the first tag for each user\n",
    "df6 = df5.na.fill({'timediff': 0})"
   ]
  },
  {
   "cell_type": "code",
   "execution_count": 13,
   "id": "88c632c5",
   "metadata": {},
   "outputs": [
    {
     "name": "stderr",
     "output_type": "stream",
     "text": [
      "[Stage 7:>                                                          (0 + 1) / 1]\r"
     ]
    },
    {
     "name": "stdout",
     "output_type": "stream",
     "text": [
      "+------+-------+----------------+-------------------+-------------------+--------+\n",
      "|UserID|MovieID|             Tag|          Timestamp|                lag|timediff|\n",
      "+------+-------+----------------+-------------------+-------------------+--------+\n",
      "|  1000|    277|children's story|2007-08-31 06:05:11|               null|       0|\n",
      "|  1000|   1994|    sci-fi. dark|2007-08-31 06:05:36|2007-08-31 06:05:11|      25|\n",
      "|  1000|   5377|         romance|2007-08-31 06:05:50|2007-08-31 06:05:36|      14|\n",
      "|  1000|   7147|    family bonds|2007-08-31 06:06:01|2007-08-31 06:05:50|      11|\n",
      "|  1000|    362|animated classic|2007-08-31 06:06:11|2007-08-31 06:06:01|      10|\n",
      "|  1000|    276|          family|2007-08-31 06:07:15|2007-08-31 06:06:11|      64|\n",
      "| 10003|  42013|        Passable|2006-06-16 06:33:55|               null|       0|\n",
      "| 10003|  51662|  FIOS on demand|2008-04-12 00:35:26|2006-06-16 06:33:55|57520891|\n",
      "| 10003|  54997|  FIOS on demand|2008-04-12 00:35:35|2008-04-12 00:35:26|       9|\n",
      "| 10003|  55765|  FIOS on demand|2008-04-12 00:35:42|2008-04-12 00:35:35|       7|\n",
      "| 10003|  55363|  FIOS on demand|2008-04-12 00:37:00|2008-04-12 00:35:42|      78|\n",
      "| 10003|  56152|  FIOS on demand|2008-04-12 00:38:46|2008-04-12 00:37:00|     106|\n",
      "| 10003|  55116|  FIOS on demand|2008-04-12 00:40:36|2008-04-12 00:38:46|     110|\n",
      "| 10003|  56174|  FIOS on demand|2008-04-12 00:41:10|2008-04-12 00:40:36|      34|\n",
      "| 10003|  55176|  FIOS on demand|2008-04-12 00:42:35|2008-04-12 00:41:10|      85|\n",
      "| 10003|  55247|  FIOS on demand|2008-04-12 00:42:36|2008-04-12 00:42:35|       1|\n",
      "| 10003|  54881|  FIOS on demand|2008-04-12 00:42:38|2008-04-12 00:42:36|       2|\n",
      "| 10003|  55820|  FIOS on demand|2008-04-12 00:44:33|2008-04-12 00:42:38|     115|\n",
      "| 10003|  53123|  FIOS on demand|2008-04-12 00:44:35|2008-04-12 00:44:33|       2|\n",
      "| 10003|  53550|  FIOS on demand|2008-04-12 00:45:37|2008-04-12 00:44:35|      62|\n",
      "+------+-------+----------------+-------------------+-------------------+--------+\n",
      "only showing top 20 rows\n",
      "\n"
     ]
    },
    {
     "name": "stderr",
     "output_type": "stream",
     "text": [
      "                                                                                \r"
     ]
    }
   ],
   "source": [
    "df6.show()"
   ]
  },
  {
   "cell_type": "markdown",
   "id": "ac68d2ec",
   "metadata": {},
   "source": [
    "If the time diff is greater than 30 mins, then we set a col value as 1, otherwise 0.\n",
    "This is done so as to identify when a session starts"
   ]
  },
  {
   "cell_type": "code",
   "execution_count": 14,
   "id": "10ded704",
   "metadata": {},
   "outputs": [],
   "source": [
    "\n",
    "\n",
    "df7 = df6.withColumn(\"session\", when(df6.timediff>= 1800,1) \\\n",
    "      .otherwise(0))"
   ]
  },
  {
   "cell_type": "markdown",
   "id": "38877375",
   "metadata": {},
   "source": [
    "We now add a column called session_id. This column containes the session id for each tag. The session ids of a user start from 0. If there is inactivity for more than 30 mins, new session starts.\n",
    "\n",
    "This is done by using window function on each user and time stamp and by taking two consecutive rows in a window.\n",
    "Then we find the sum of the previously calculated column session, where whenever new session starts 1 occurs, otherwise it is 0. Hence by finding sum of consecutive rows, we can give session ids."
   ]
  },
  {
   "cell_type": "code",
   "execution_count": 15,
   "id": "6ff9da6b",
   "metadata": {},
   "outputs": [
    {
     "name": "stdout",
     "output_type": "stream",
     "text": [
      "+------+-------+----------------+-------------------+-------------------+--------+-------+----------+\n",
      "|UserID|MovieID|             Tag|          Timestamp|                lag|timediff|session|session_id|\n",
      "+------+-------+----------------+-------------------+-------------------+--------+-------+----------+\n",
      "|  1000|    277|children's story|2007-08-31 06:05:11|               null|       0|      0|         0|\n",
      "|  1000|   1994|    sci-fi. dark|2007-08-31 06:05:36|2007-08-31 06:05:11|      25|      0|         0|\n",
      "|  1000|   5377|         romance|2007-08-31 06:05:50|2007-08-31 06:05:36|      14|      0|         0|\n",
      "|  1000|   7147|    family bonds|2007-08-31 06:06:01|2007-08-31 06:05:50|      11|      0|         0|\n",
      "|  1000|    362|animated classic|2007-08-31 06:06:11|2007-08-31 06:06:01|      10|      0|         0|\n",
      "|  1000|    276|          family|2007-08-31 06:07:15|2007-08-31 06:06:11|      64|      0|         0|\n",
      "| 10003|  42013|        Passable|2006-06-16 06:33:55|               null|       0|      0|         0|\n",
      "| 10003|  51662|  FIOS on demand|2008-04-12 00:35:26|2006-06-16 06:33:55|57520891|      1|         1|\n",
      "| 10003|  54997|  FIOS on demand|2008-04-12 00:35:35|2008-04-12 00:35:26|       9|      0|         1|\n",
      "| 10003|  55765|  FIOS on demand|2008-04-12 00:35:42|2008-04-12 00:35:35|       7|      0|         1|\n",
      "| 10003|  55363|  FIOS on demand|2008-04-12 00:37:00|2008-04-12 00:35:42|      78|      0|         1|\n",
      "| 10003|  56152|  FIOS on demand|2008-04-12 00:38:46|2008-04-12 00:37:00|     106|      0|         1|\n",
      "| 10003|  55116|  FIOS on demand|2008-04-12 00:40:36|2008-04-12 00:38:46|     110|      0|         1|\n",
      "| 10003|  56174|  FIOS on demand|2008-04-12 00:41:10|2008-04-12 00:40:36|      34|      0|         1|\n",
      "| 10003|  55176|  FIOS on demand|2008-04-12 00:42:35|2008-04-12 00:41:10|      85|      0|         1|\n",
      "| 10003|  55247|  FIOS on demand|2008-04-12 00:42:36|2008-04-12 00:42:35|       1|      0|         1|\n",
      "| 10003|  54881|  FIOS on demand|2008-04-12 00:42:38|2008-04-12 00:42:36|       2|      0|         1|\n",
      "| 10003|  55820|  FIOS on demand|2008-04-12 00:44:33|2008-04-12 00:42:38|     115|      0|         1|\n",
      "| 10003|  53123|  FIOS on demand|2008-04-12 00:44:35|2008-04-12 00:44:33|       2|      0|         1|\n",
      "| 10003|  53550|  FIOS on demand|2008-04-12 00:45:37|2008-04-12 00:44:35|      62|      0|         1|\n",
      "+------+-------+----------------+-------------------+-------------------+--------+-------+----------+\n",
      "only showing top 20 rows\n",
      "\n"
     ]
    }
   ],
   "source": [
    "W = Window.partitionBy(df7.UserID).orderBy(df7.Timestamp).rowsBetween(Window.unboundedPreceding, Window.currentRow)\n",
    "df8 = df7.withColumn('session_id', f.sum(df7['session']).over(W))\n",
    "df8.show(20)"
   ]
  },
  {
   "cell_type": "markdown",
   "id": "5b9bb6d5",
   "metadata": {},
   "source": [
    "To Calculate the frequency of tagging for each\n",
    "user session.\n",
    "\n",
    "\n",
    "We first group the dataframe by user and session_id.\n",
    "Then we find the number of tags in each session of each user."
   ]
  },
  {
   "cell_type": "code",
   "execution_count": 16,
   "id": "523662fa",
   "metadata": {},
   "outputs": [],
   "source": [
    "gr = df8.groupby(['UserID','session_id'])\n",
    "df_grouped = gr.agg(f.count(col('session_id')).alias('freq'))"
   ]
  },
  {
   "cell_type": "code",
   "execution_count": 17,
   "id": "fb32ee47",
   "metadata": {},
   "outputs": [
    {
     "name": "stderr",
     "output_type": "stream",
     "text": [
      "[Stage 15:>                                                         (0 + 1) / 1]\r"
     ]
    },
    {
     "name": "stdout",
     "output_type": "stream",
     "text": [
      "+------+----------+----+\n",
      "|UserID|session_id|freq|\n",
      "+------+----------+----+\n",
      "|  1000|         0|   6|\n",
      "| 10003|         0|   1|\n",
      "| 10003|         1|  18|\n",
      "| 10003|         2|  38|\n",
      "| 10020|         0|   2|\n",
      "| 10025|         0|   1|\n",
      "| 10032|         0|  39|\n",
      "| 10032|         1|   1|\n",
      "| 10032|         2|   1|\n",
      "| 10032|         3|   1|\n",
      "| 10032|         4|   4|\n",
      "| 10032|         5|   1|\n",
      "| 10032|         6|   1|\n",
      "| 10032|         7|   4|\n",
      "| 10032|         8|   1|\n",
      "| 10032|         9|   1|\n",
      "| 10032|        10|   1|\n",
      "| 10032|        11|   1|\n",
      "| 10051|         0|   1|\n",
      "| 10058|         0|  35|\n",
      "+------+----------+----+\n",
      "only showing top 20 rows\n",
      "\n"
     ]
    },
    {
     "name": "stderr",
     "output_type": "stream",
     "text": [
      "                                                                                \r"
     ]
    }
   ],
   "source": [
    "df_grouped.show()"
   ]
  },
  {
   "cell_type": "markdown",
   "id": "979a6d82",
   "metadata": {},
   "source": [
    "To find a mean and standard deviation of the tagging frequency of each user.\n",
    "\n",
    "First we group the above found dataframe by userid and then find the mean and standard deviation of the frequency values. Thus we get mean and std of tagging frequency for each user."
   ]
  },
  {
   "cell_type": "code",
   "execution_count": 18,
   "id": "c5b992a0",
   "metadata": {},
   "outputs": [
    {
     "name": "stderr",
     "output_type": "stream",
     "text": [
      "                                                                                \r"
     ]
    },
    {
     "name": "stdout",
     "output_type": "stream",
     "text": [
      "+------+------------------+\n",
      "|UserID|               std|\n",
      "+------+------------------+\n",
      "|  1000|              null|\n",
      "| 10003|18.520259177452136|\n",
      "| 10020|              null|\n",
      "| 10025|              null|\n",
      "| 10032|10.873933246182093|\n",
      "| 10051|              null|\n",
      "| 10058|15.044378795195676|\n",
      "| 10059|0.7071067811865476|\n",
      "| 10064|              null|\n",
      "| 10084|2.0615528128088303|\n",
      "| 10094|              null|\n",
      "|  1010|              null|\n",
      "| 10117|0.7071067811865476|\n",
      "| 10125|              null|\n",
      "| 10132|1.4127396551853897|\n",
      "| 10154|              null|\n",
      "| 10167|              null|\n",
      "|  1017|              null|\n",
      "| 10181|              null|\n",
      "| 10191|0.5773502691896258|\n",
      "+------+------------------+\n",
      "only showing top 20 rows\n",
      "\n",
      "+------+------------------+\n",
      "|UserID|              mean|\n",
      "+------+------------------+\n",
      "|  1000|               6.0|\n",
      "| 10003|              19.0|\n",
      "| 10020|               2.0|\n",
      "| 10025|               1.0|\n",
      "| 10032| 4.666666666666667|\n",
      "| 10051|               1.0|\n",
      "| 10058|25.333333333333332|\n",
      "| 10059|               2.5|\n",
      "| 10064|               1.0|\n",
      "| 10084|              3.75|\n",
      "| 10094|               2.0|\n",
      "|  1010|               4.0|\n",
      "| 10117|               1.5|\n",
      "| 10125|              21.0|\n",
      "| 10132|            1.5625|\n",
      "| 10154|               8.0|\n",
      "| 10167|               1.0|\n",
      "|  1017|               7.0|\n",
      "| 10181|              11.0|\n",
      "| 10191|2.6666666666666665|\n",
      "+------+------------------+\n",
      "only showing top 20 rows\n",
      "\n"
     ]
    },
    {
     "name": "stderr",
     "output_type": "stream",
     "text": [
      "                                                                                \r"
     ]
    }
   ],
   "source": [
    "std_df = df_grouped.groupby('UserID').agg(f.stddev(\"freq\").alias(\"std\"))\n",
    "mean_df = df_grouped.groupby('UserID').agg(f.mean(\"freq\").alias(\"mean\"))\n",
    "\n",
    "std_df.show()\n",
    "mean_df.show()\n"
   ]
  },
  {
   "cell_type": "markdown",
   "id": "4944b747",
   "metadata": {},
   "source": [
    "To find a mean and standard deviation of the tagging frequency for across users.\n",
    "\n",
    "First we group the dataframe by users and then find the count of distinct session ids in each user. Thus we get the count of sessions for each user.\n",
    "Then we find the mean and standard deviation for these counts.\n",
    "Thus we get the mean and std of tagging freq across users"
   ]
  },
  {
   "cell_type": "code",
   "execution_count": 19,
   "id": "c83f40cd",
   "metadata": {},
   "outputs": [
    {
     "name": "stdout",
     "output_type": "stream",
     "text": [
      "+------+----+\n",
      "|UserID|freq|\n",
      "+------+----+\n",
      "|  1000|   1|\n",
      "| 10003|   3|\n",
      "| 10020|   1|\n",
      "| 10025|   1|\n",
      "| 10032|  12|\n",
      "| 10051|   1|\n",
      "| 10058|   3|\n",
      "| 10059|   2|\n",
      "| 10064|   1|\n",
      "| 10084|   4|\n",
      "| 10094|   1|\n",
      "|  1010|   1|\n",
      "| 10117|   2|\n",
      "| 10125|   1|\n",
      "| 10132|  16|\n",
      "| 10154|   1|\n",
      "| 10167|   1|\n",
      "|  1017|   1|\n",
      "| 10181|   1|\n",
      "| 10191|   3|\n",
      "+------+----+\n",
      "only showing top 20 rows\n",
      "\n"
     ]
    }
   ],
   "source": [
    "gro = df8.groupby('UserID')\n",
    "df_grouped_across = gro.agg(f.countDistinct(col('session_id')).alias('freq'))\n",
    "df_grouped_across.show()"
   ]
  },
  {
   "cell_type": "code",
   "execution_count": 20,
   "id": "61f61547",
   "metadata": {},
   "outputs": [
    {
     "name": "stdout",
     "output_type": "stream",
     "text": [
      "+------------------+\n",
      "|      stddev(freq)|\n",
      "+------------------+\n",
      "|19.114155365086855|\n",
      "+------------------+\n",
      "\n",
      "+-----------------+\n",
      "|        avg(freq)|\n",
      "+-----------------+\n",
      "|3.265901721127463|\n",
      "+-----------------+\n",
      "\n"
     ]
    }
   ],
   "source": [
    "std_across = df_grouped_across.agg({'freq': 'stddev' })\n",
    "mean_across = df_grouped_across.agg({'freq':'mean'})\n",
    "\n",
    "std_across.show()\n",
    "mean_across.show()\n"
   ]
  },
  {
   "cell_type": "markdown",
   "id": "61bb2bcc",
   "metadata": {},
   "source": [
    "To provide the list of users with a mean tagging frequency within the two standard deviation from\n",
    "the mean frequency of all users.\n",
    "\n",
    "We see that the mean+2*std for all users = 3.3 + 19.2*2 = 43\n",
    "Here we take the dataframe which we had found above having the mean tagging frequency for each user. Then we find users such that their mean is within 43."
   ]
  },
  {
   "cell_type": "code",
   "execution_count": 21,
   "id": "cb76fb80",
   "metadata": {},
   "outputs": [
    {
     "name": "stdout",
     "output_type": "stream",
     "text": [
      "+------+------------------+\n",
      "|UserID|              mean|\n",
      "+------+------------------+\n",
      "|  1000|               6.0|\n",
      "| 10003|              19.0|\n",
      "| 10020|               2.0|\n",
      "| 10025|               1.0|\n",
      "| 10032| 4.666666666666667|\n",
      "| 10051|               1.0|\n",
      "| 10058|25.333333333333332|\n",
      "| 10059|               2.5|\n",
      "| 10064|               1.0|\n",
      "| 10084|              3.75|\n",
      "| 10094|               2.0|\n",
      "|  1010|               4.0|\n",
      "| 10117|               1.5|\n",
      "| 10125|              21.0|\n",
      "| 10132|            1.5625|\n",
      "| 10154|               8.0|\n",
      "| 10167|               1.0|\n",
      "|  1017|               7.0|\n",
      "| 10181|              11.0|\n",
      "| 10191|2.6666666666666665|\n",
      "+------+------------------+\n",
      "only showing top 20 rows\n",
      "\n"
     ]
    }
   ],
   "source": [
    "\n",
    "final = mean_df.filter(mean_df.mean<=43)\n",
    "final.show()\n"
   ]
  },
  {
   "cell_type": "code",
   "execution_count": 22,
   "id": "ec78f1e9",
   "metadata": {},
   "outputs": [
    {
     "data": {
      "text/plain": [
       "3944"
      ]
     },
     "execution_count": 22,
     "metadata": {},
     "output_type": "execute_result"
    }
   ],
   "source": [
    "\n",
    "final.count()"
   ]
  },
  {
   "cell_type": "code",
   "execution_count": 23,
   "id": "0c9acd36",
   "metadata": {},
   "outputs": [
    {
     "data": {
      "text/plain": [
       "4009"
      ]
     },
     "execution_count": 23,
     "metadata": {},
     "output_type": "execute_result"
    }
   ],
   "source": [
    "mean_df.count()"
   ]
  },
  {
   "cell_type": "markdown",
   "id": "b79ea306",
   "metadata": {},
   "source": [
    "We see that 3944 users have mean within 2 std from mean of all users. The total number of users in the dataframe is 4009."
   ]
  },
  {
   "cell_type": "markdown",
   "id": "8c8aa3ab",
   "metadata": {},
   "source": [
    "References\n",
    "\n",
    "https://stackoverflow.com/questions/54337991/pyspark-from-unixtime-unix-timestamp-does-not-convert-to-timestamp\n",
    "https://sparkbyexamples.com/pyspark/pyspark-rename-dataframe-column/\n",
    "https://stackoverflow.com/questions/63136798/spark-read-dat-file-with-a-special-case\n",
    "https://sparkbyexamples.com/pyspark/pyspark-window-functions/\n",
    "https://stackoverflow.com/questions/32880370/pyspark-combining-session-data-without-explicit-session-key-iterating-over-a\n",
    "https://stackoverflow.com/questions/44020818/how-to-calculate-date-difference-in-pyspark\n",
    "https://stackoverflow.com/questions/46421677/how-to-count-unique-id-after-groupby-in-pyspark\n",
    "https://stackoverflow.com/questions/39504950/python-pyspark-get-sum-of-a-pyspark-dataframe-column-values\n",
    "https://stackoverflow.com/questions/37707305/pyspark-multiple-conditions-in-when-clause\n"
   ]
  }
 ],
 "metadata": {
  "kernelspec": {
   "display_name": "Python 3 (ipykernel)",
   "language": "python",
   "name": "python3"
  },
  "language_info": {
   "codemirror_mode": {
    "name": "ipython",
    "version": 3
   },
   "file_extension": ".py",
   "mimetype": "text/x-python",
   "name": "python",
   "nbconvert_exporter": "python",
   "pygments_lexer": "ipython3",
   "version": "3.8.8"
  }
 },
 "nbformat": 4,
 "nbformat_minor": 5
}
