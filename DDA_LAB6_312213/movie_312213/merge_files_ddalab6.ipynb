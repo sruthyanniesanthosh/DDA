{
 "cells": [
  {
   "cell_type": "code",
   "execution_count": 1,
   "id": "ae076a0d",
   "metadata": {},
   "outputs": [],
   "source": [
    "import pandas as pd\n",
    "import matplotlib.pyplot as plt\n",
    "import numpy as np\n"
   ]
  },
  {
   "cell_type": "code",
   "execution_count": 2,
   "id": "f6898bc5",
   "metadata": {},
   "outputs": [
    {
     "name": "stderr",
     "output_type": "stream",
     "text": [
      "/var/folders/9z/75yp7_695hg75lbf0tpmjs9w0000gn/T/ipykernel_17320/3745429871.py:2: ParserWarning: Falling back to the 'python' engine because the 'c' engine does not support regex separators (separators > 1 char and different from '\\s+' are interpreted as regex); you can avoid this warning by specifying engine='python'.\n",
      "  data_frame = pd.read_csv('movies.dat',names = ['Movieid','Title','Genre'] ,  delimiter=\"::\")\n"
     ]
    }
   ],
   "source": [
    "#Reading the required data file\n",
    "data_frame = pd.read_csv('movies.dat',names = ['Movieid','Title','Genre'] ,  delimiter=\"::\")\n",
    "\n"
   ]
  },
  {
   "cell_type": "code",
   "execution_count": 3,
   "id": "536f0d27",
   "metadata": {},
   "outputs": [
    {
     "data": {
      "text/html": [
       "<div>\n",
       "<style scoped>\n",
       "    .dataframe tbody tr th:only-of-type {\n",
       "        vertical-align: middle;\n",
       "    }\n",
       "\n",
       "    .dataframe tbody tr th {\n",
       "        vertical-align: top;\n",
       "    }\n",
       "\n",
       "    .dataframe thead th {\n",
       "        text-align: right;\n",
       "    }\n",
       "</style>\n",
       "<table border=\"1\" class=\"dataframe\">\n",
       "  <thead>\n",
       "    <tr style=\"text-align: right;\">\n",
       "      <th></th>\n",
       "      <th>Movieid</th>\n",
       "      <th>Title</th>\n",
       "      <th>Genre</th>\n",
       "    </tr>\n",
       "  </thead>\n",
       "  <tbody>\n",
       "    <tr>\n",
       "      <th>0</th>\n",
       "      <td>1</td>\n",
       "      <td>Toy Story (1995)</td>\n",
       "      <td>Adventure|Animation|Children|Comedy|Fantasy</td>\n",
       "    </tr>\n",
       "    <tr>\n",
       "      <th>1</th>\n",
       "      <td>2</td>\n",
       "      <td>Jumanji (1995)</td>\n",
       "      <td>Adventure|Children|Fantasy</td>\n",
       "    </tr>\n",
       "    <tr>\n",
       "      <th>2</th>\n",
       "      <td>3</td>\n",
       "      <td>Grumpier Old Men (1995)</td>\n",
       "      <td>Comedy|Romance</td>\n",
       "    </tr>\n",
       "    <tr>\n",
       "      <th>3</th>\n",
       "      <td>4</td>\n",
       "      <td>Waiting to Exhale (1995)</td>\n",
       "      <td>Comedy|Drama|Romance</td>\n",
       "    </tr>\n",
       "    <tr>\n",
       "      <th>4</th>\n",
       "      <td>5</td>\n",
       "      <td>Father of the Bride Part II (1995)</td>\n",
       "      <td>Comedy</td>\n",
       "    </tr>\n",
       "    <tr>\n",
       "      <th>...</th>\n",
       "      <td>...</td>\n",
       "      <td>...</td>\n",
       "      <td>...</td>\n",
       "    </tr>\n",
       "    <tr>\n",
       "      <th>10676</th>\n",
       "      <td>65088</td>\n",
       "      <td>Bedtime Stories (2008)</td>\n",
       "      <td>Adventure|Children|Comedy</td>\n",
       "    </tr>\n",
       "    <tr>\n",
       "      <th>10677</th>\n",
       "      <td>65091</td>\n",
       "      <td>Manhattan Melodrama (1934)</td>\n",
       "      <td>Crime|Drama|Romance</td>\n",
       "    </tr>\n",
       "    <tr>\n",
       "      <th>10678</th>\n",
       "      <td>65126</td>\n",
       "      <td>Choke (2008)</td>\n",
       "      <td>Comedy|Drama</td>\n",
       "    </tr>\n",
       "    <tr>\n",
       "      <th>10679</th>\n",
       "      <td>65130</td>\n",
       "      <td>Revolutionary Road (2008)</td>\n",
       "      <td>Drama|Romance</td>\n",
       "    </tr>\n",
       "    <tr>\n",
       "      <th>10680</th>\n",
       "      <td>65133</td>\n",
       "      <td>Blackadder Back &amp; Forth (1999)</td>\n",
       "      <td>Comedy</td>\n",
       "    </tr>\n",
       "  </tbody>\n",
       "</table>\n",
       "<p>10681 rows × 3 columns</p>\n",
       "</div>"
      ],
      "text/plain": [
       "       Movieid                               Title  \\\n",
       "0            1                    Toy Story (1995)   \n",
       "1            2                      Jumanji (1995)   \n",
       "2            3             Grumpier Old Men (1995)   \n",
       "3            4            Waiting to Exhale (1995)   \n",
       "4            5  Father of the Bride Part II (1995)   \n",
       "...        ...                                 ...   \n",
       "10676    65088              Bedtime Stories (2008)   \n",
       "10677    65091          Manhattan Melodrama (1934)   \n",
       "10678    65126                        Choke (2008)   \n",
       "10679    65130           Revolutionary Road (2008)   \n",
       "10680    65133      Blackadder Back & Forth (1999)   \n",
       "\n",
       "                                             Genre  \n",
       "0      Adventure|Animation|Children|Comedy|Fantasy  \n",
       "1                       Adventure|Children|Fantasy  \n",
       "2                                   Comedy|Romance  \n",
       "3                             Comedy|Drama|Romance  \n",
       "4                                           Comedy  \n",
       "...                                            ...  \n",
       "10676                    Adventure|Children|Comedy  \n",
       "10677                          Crime|Drama|Romance  \n",
       "10678                                 Comedy|Drama  \n",
       "10679                                Drama|Romance  \n",
       "10680                                       Comedy  \n",
       "\n",
       "[10681 rows x 3 columns]"
      ]
     },
     "execution_count": 3,
     "metadata": {},
     "output_type": "execute_result"
    }
   ],
   "source": [
    "data_frame"
   ]
  },
  {
   "cell_type": "code",
   "execution_count": 4,
   "id": "e35b6105",
   "metadata": {},
   "outputs": [
    {
     "name": "stderr",
     "output_type": "stream",
     "text": [
      "/var/folders/9z/75yp7_695hg75lbf0tpmjs9w0000gn/T/ipykernel_17320/919639521.py:1: ParserWarning: Falling back to the 'python' engine because the 'c' engine does not support regex separators (separators > 1 char and different from '\\s+' are interpreted as regex); you can avoid this warning by specifying engine='python'.\n",
      "  data_frame2 = pd.read_csv('ratings.dat',names = ['Userid','Movieid','Rating','Timestamp'] ,  delimiter=\"::\")\n"
     ]
    }
   ],
   "source": [
    "data_frame2 = pd.read_csv('ratings.dat',names = ['Userid','Movieid','Rating','Timestamp'] ,  delimiter=\"::\")\n"
   ]
  },
  {
   "cell_type": "code",
   "execution_count": 5,
   "id": "bf1dd89e",
   "metadata": {},
   "outputs": [
    {
     "data": {
      "text/html": [
       "<div>\n",
       "<style scoped>\n",
       "    .dataframe tbody tr th:only-of-type {\n",
       "        vertical-align: middle;\n",
       "    }\n",
       "\n",
       "    .dataframe tbody tr th {\n",
       "        vertical-align: top;\n",
       "    }\n",
       "\n",
       "    .dataframe thead th {\n",
       "        text-align: right;\n",
       "    }\n",
       "</style>\n",
       "<table border=\"1\" class=\"dataframe\">\n",
       "  <thead>\n",
       "    <tr style=\"text-align: right;\">\n",
       "      <th></th>\n",
       "      <th>Userid</th>\n",
       "      <th>Movieid</th>\n",
       "      <th>Rating</th>\n",
       "      <th>Timestamp</th>\n",
       "    </tr>\n",
       "  </thead>\n",
       "  <tbody>\n",
       "    <tr>\n",
       "      <th>0</th>\n",
       "      <td>1</td>\n",
       "      <td>122</td>\n",
       "      <td>5.0</td>\n",
       "      <td>838985046</td>\n",
       "    </tr>\n",
       "    <tr>\n",
       "      <th>1</th>\n",
       "      <td>1</td>\n",
       "      <td>185</td>\n",
       "      <td>5.0</td>\n",
       "      <td>838983525</td>\n",
       "    </tr>\n",
       "    <tr>\n",
       "      <th>2</th>\n",
       "      <td>1</td>\n",
       "      <td>231</td>\n",
       "      <td>5.0</td>\n",
       "      <td>838983392</td>\n",
       "    </tr>\n",
       "    <tr>\n",
       "      <th>3</th>\n",
       "      <td>1</td>\n",
       "      <td>292</td>\n",
       "      <td>5.0</td>\n",
       "      <td>838983421</td>\n",
       "    </tr>\n",
       "    <tr>\n",
       "      <th>4</th>\n",
       "      <td>1</td>\n",
       "      <td>316</td>\n",
       "      <td>5.0</td>\n",
       "      <td>838983392</td>\n",
       "    </tr>\n",
       "    <tr>\n",
       "      <th>...</th>\n",
       "      <td>...</td>\n",
       "      <td>...</td>\n",
       "      <td>...</td>\n",
       "      <td>...</td>\n",
       "    </tr>\n",
       "    <tr>\n",
       "      <th>10000049</th>\n",
       "      <td>71567</td>\n",
       "      <td>2107</td>\n",
       "      <td>1.0</td>\n",
       "      <td>912580553</td>\n",
       "    </tr>\n",
       "    <tr>\n",
       "      <th>10000050</th>\n",
       "      <td>71567</td>\n",
       "      <td>2126</td>\n",
       "      <td>2.0</td>\n",
       "      <td>912649143</td>\n",
       "    </tr>\n",
       "    <tr>\n",
       "      <th>10000051</th>\n",
       "      <td>71567</td>\n",
       "      <td>2294</td>\n",
       "      <td>5.0</td>\n",
       "      <td>912577968</td>\n",
       "    </tr>\n",
       "    <tr>\n",
       "      <th>10000052</th>\n",
       "      <td>71567</td>\n",
       "      <td>2338</td>\n",
       "      <td>2.0</td>\n",
       "      <td>912578016</td>\n",
       "    </tr>\n",
       "    <tr>\n",
       "      <th>10000053</th>\n",
       "      <td>71567</td>\n",
       "      <td>2384</td>\n",
       "      <td>2.0</td>\n",
       "      <td>912578173</td>\n",
       "    </tr>\n",
       "  </tbody>\n",
       "</table>\n",
       "<p>10000054 rows × 4 columns</p>\n",
       "</div>"
      ],
      "text/plain": [
       "          Userid  Movieid  Rating  Timestamp\n",
       "0              1      122     5.0  838985046\n",
       "1              1      185     5.0  838983525\n",
       "2              1      231     5.0  838983392\n",
       "3              1      292     5.0  838983421\n",
       "4              1      316     5.0  838983392\n",
       "...          ...      ...     ...        ...\n",
       "10000049   71567     2107     1.0  912580553\n",
       "10000050   71567     2126     2.0  912649143\n",
       "10000051   71567     2294     5.0  912577968\n",
       "10000052   71567     2338     2.0  912578016\n",
       "10000053   71567     2384     2.0  912578173\n",
       "\n",
       "[10000054 rows x 4 columns]"
      ]
     },
     "execution_count": 5,
     "metadata": {},
     "output_type": "execute_result"
    }
   ],
   "source": [
    "data_frame2"
   ]
  },
  {
   "cell_type": "code",
   "execution_count": 6,
   "id": "372fe1cc",
   "metadata": {},
   "outputs": [],
   "source": [
    "#Merging the datasets\n",
    "merge_frame = data_frame.merge(data_frame2, on='Movieid') #movie-id is the common attribute\n"
   ]
  },
  {
   "cell_type": "code",
   "execution_count": 7,
   "id": "31bc5a91",
   "metadata": {},
   "outputs": [
    {
     "data": {
      "text/html": [
       "<div>\n",
       "<style scoped>\n",
       "    .dataframe tbody tr th:only-of-type {\n",
       "        vertical-align: middle;\n",
       "    }\n",
       "\n",
       "    .dataframe tbody tr th {\n",
       "        vertical-align: top;\n",
       "    }\n",
       "\n",
       "    .dataframe thead th {\n",
       "        text-align: right;\n",
       "    }\n",
       "</style>\n",
       "<table border=\"1\" class=\"dataframe\">\n",
       "  <thead>\n",
       "    <tr style=\"text-align: right;\">\n",
       "      <th></th>\n",
       "      <th>Movieid</th>\n",
       "      <th>Title</th>\n",
       "      <th>Genre</th>\n",
       "      <th>Userid</th>\n",
       "      <th>Rating</th>\n",
       "      <th>Timestamp</th>\n",
       "    </tr>\n",
       "  </thead>\n",
       "  <tbody>\n",
       "    <tr>\n",
       "      <th>0</th>\n",
       "      <td>1</td>\n",
       "      <td>Toy Story (1995)</td>\n",
       "      <td>Adventure|Animation|Children|Comedy|Fantasy</td>\n",
       "      <td>5</td>\n",
       "      <td>1.0</td>\n",
       "      <td>857911264</td>\n",
       "    </tr>\n",
       "    <tr>\n",
       "      <th>1</th>\n",
       "      <td>1</td>\n",
       "      <td>Toy Story (1995)</td>\n",
       "      <td>Adventure|Animation|Children|Comedy|Fantasy</td>\n",
       "      <td>14</td>\n",
       "      <td>3.0</td>\n",
       "      <td>1133572007</td>\n",
       "    </tr>\n",
       "    <tr>\n",
       "      <th>2</th>\n",
       "      <td>1</td>\n",
       "      <td>Toy Story (1995)</td>\n",
       "      <td>Adventure|Animation|Children|Comedy|Fantasy</td>\n",
       "      <td>18</td>\n",
       "      <td>3.0</td>\n",
       "      <td>1111545931</td>\n",
       "    </tr>\n",
       "    <tr>\n",
       "      <th>3</th>\n",
       "      <td>1</td>\n",
       "      <td>Toy Story (1995)</td>\n",
       "      <td>Adventure|Animation|Children|Comedy|Fantasy</td>\n",
       "      <td>23</td>\n",
       "      <td>5.0</td>\n",
       "      <td>849543482</td>\n",
       "    </tr>\n",
       "    <tr>\n",
       "      <th>4</th>\n",
       "      <td>1</td>\n",
       "      <td>Toy Story (1995)</td>\n",
       "      <td>Adventure|Animation|Children|Comedy|Fantasy</td>\n",
       "      <td>24</td>\n",
       "      <td>5.0</td>\n",
       "      <td>868254237</td>\n",
       "    </tr>\n",
       "    <tr>\n",
       "      <th>...</th>\n",
       "      <td>...</td>\n",
       "      <td>...</td>\n",
       "      <td>...</td>\n",
       "      <td>...</td>\n",
       "      <td>...</td>\n",
       "      <td>...</td>\n",
       "    </tr>\n",
       "    <tr>\n",
       "      <th>10000049</th>\n",
       "      <td>65133</td>\n",
       "      <td>Blackadder Back &amp; Forth (1999)</td>\n",
       "      <td>Comedy</td>\n",
       "      <td>24495</td>\n",
       "      <td>4.0</td>\n",
       "      <td>1231081348</td>\n",
       "    </tr>\n",
       "    <tr>\n",
       "      <th>10000050</th>\n",
       "      <td>65133</td>\n",
       "      <td>Blackadder Back &amp; Forth (1999)</td>\n",
       "      <td>Comedy</td>\n",
       "      <td>33384</td>\n",
       "      <td>3.0</td>\n",
       "      <td>1231034528</td>\n",
       "    </tr>\n",
       "    <tr>\n",
       "      <th>10000051</th>\n",
       "      <td>65133</td>\n",
       "      <td>Blackadder Back &amp; Forth (1999)</td>\n",
       "      <td>Comedy</td>\n",
       "      <td>40570</td>\n",
       "      <td>2.0</td>\n",
       "      <td>1231055397</td>\n",
       "    </tr>\n",
       "    <tr>\n",
       "      <th>10000052</th>\n",
       "      <td>65133</td>\n",
       "      <td>Blackadder Back &amp; Forth (1999)</td>\n",
       "      <td>Comedy</td>\n",
       "      <td>45430</td>\n",
       "      <td>2.5</td>\n",
       "      <td>1231105425</td>\n",
       "    </tr>\n",
       "    <tr>\n",
       "      <th>10000053</th>\n",
       "      <td>65133</td>\n",
       "      <td>Blackadder Back &amp; Forth (1999)</td>\n",
       "      <td>Comedy</td>\n",
       "      <td>68151</td>\n",
       "      <td>5.0</td>\n",
       "      <td>1231129793</td>\n",
       "    </tr>\n",
       "  </tbody>\n",
       "</table>\n",
       "<p>10000054 rows × 6 columns</p>\n",
       "</div>"
      ],
      "text/plain": [
       "          Movieid                           Title  \\\n",
       "0               1                Toy Story (1995)   \n",
       "1               1                Toy Story (1995)   \n",
       "2               1                Toy Story (1995)   \n",
       "3               1                Toy Story (1995)   \n",
       "4               1                Toy Story (1995)   \n",
       "...           ...                             ...   \n",
       "10000049    65133  Blackadder Back & Forth (1999)   \n",
       "10000050    65133  Blackadder Back & Forth (1999)   \n",
       "10000051    65133  Blackadder Back & Forth (1999)   \n",
       "10000052    65133  Blackadder Back & Forth (1999)   \n",
       "10000053    65133  Blackadder Back & Forth (1999)   \n",
       "\n",
       "                                                Genre  Userid  Rating  \\\n",
       "0         Adventure|Animation|Children|Comedy|Fantasy       5     1.0   \n",
       "1         Adventure|Animation|Children|Comedy|Fantasy      14     3.0   \n",
       "2         Adventure|Animation|Children|Comedy|Fantasy      18     3.0   \n",
       "3         Adventure|Animation|Children|Comedy|Fantasy      23     5.0   \n",
       "4         Adventure|Animation|Children|Comedy|Fantasy      24     5.0   \n",
       "...                                               ...     ...     ...   \n",
       "10000049                                       Comedy   24495     4.0   \n",
       "10000050                                       Comedy   33384     3.0   \n",
       "10000051                                       Comedy   40570     2.0   \n",
       "10000052                                       Comedy   45430     2.5   \n",
       "10000053                                       Comedy   68151     5.0   \n",
       "\n",
       "           Timestamp  \n",
       "0          857911264  \n",
       "1         1133572007  \n",
       "2         1111545931  \n",
       "3          849543482  \n",
       "4          868254237  \n",
       "...              ...  \n",
       "10000049  1231081348  \n",
       "10000050  1231034528  \n",
       "10000051  1231055397  \n",
       "10000052  1231105425  \n",
       "10000053  1231129793  \n",
       "\n",
       "[10000054 rows x 6 columns]"
      ]
     },
     "execution_count": 7,
     "metadata": {},
     "output_type": "execute_result"
    }
   ],
   "source": [
    "merge_frame"
   ]
  },
  {
   "cell_type": "code",
   "execution_count": 26,
   "id": "40d563e1",
   "metadata": {},
   "outputs": [],
   "source": [
    "#Removing comma from values in column\n",
    "merge_frame[\"Title\"]=merge_frame[\"Title\"].str.replace(',','.')\n"
   ]
  },
  {
   "cell_type": "code",
   "execution_count": null,
   "id": "4ea2020e",
   "metadata": {},
   "outputs": [],
   "source": [
    "#Converting to csv file\n",
    "merge_frame.to_csv('merge_data5.csv', index=False )"
   ]
  },
  {
   "cell_type": "markdown",
   "id": "4e8f7a82",
   "metadata": {},
   "source": [
    "## Graph for plotting Time VS Number of Mappers and Reducers"
   ]
  },
  {
   "cell_type": "markdown",
   "id": "b5077d2a",
   "metadata": {},
   "source": [
    "\n",
    "\n",
    "### While changing both mappers and reducers for question 1, 2 and 3"
   ]
  },
  {
   "cell_type": "code",
   "execution_count": 33,
   "id": "3d78efad",
   "metadata": {},
   "outputs": [
    {
     "data": {
      "image/png": "[encoded data removed]",
      "text/plain": [
       "<Figure size 432x288 with 1 Axes>"
      ]
     },
     "metadata": {
      "needs_background": "light"
     },
     "output_type": "display_data"
    }
   ],
   "source": [
    "time1=[75.68,76.81,76.29]\n",
    "time2=[65.53,65.23,66.31]\n",
    "time3=[60.64,62.52,60.68]\n",
    "plt.title('Time Vs Number of Mappers and Reducers') \n",
    "plt.xlabel('Number of Mappers and Reducers (x-y)') \n",
    "plt.ylabel('Time taken in seconds')\n",
    "plt.plot([\"1-1\",\"2-2\",\"4-4\"], time1, color='red',label=\"Q=1\") \n",
    "plt.plot([\"1-1\",\"2-2\",\"4-4\"], time2, color='blue',label=\"Q=2\") \n",
    "plt.plot([\"1-1\",\"2-2\",\"4-4\"], time3, color='green',label=\"Q=3\") \n",
    "\n",
    "plt.legend()\n",
    "plt.show()"
   ]
  },
  {
   "cell_type": "markdown",
   "id": "869a5276",
   "metadata": {},
   "source": [
    "### While changing only mappers and reducer=1 for question 1, 2 and 3"
   ]
  },
  {
   "cell_type": "code",
   "execution_count": 34,
   "id": "a280bb00",
   "metadata": {},
   "outputs": [
    {
     "data": {
      "image/png": "[encoded data removed]",
      "text/plain": [
       "<Figure size 432x288 with 1 Axes>"
      ]
     },
     "metadata": {
      "needs_background": "light"
     },
     "output_type": "display_data"
    }
   ],
   "source": [
    "time1=[74.55,75.15,77.53]\n",
    "time2=[64.44,65.10,64.60]\n",
    "time3=[61.62,60.66,60.62]\n",
    "plt.title('Time Vs Number of Mappers and Reducers') \n",
    "plt.xlabel('Number of Mappers and Reducers (x-y)') \n",
    "plt.ylabel('Time taken in seconds')\n",
    "plt.plot([\"2-1\",\"4-1\",\"8-1\"], time1, color='red',label=\"Q=1\") \n",
    "plt.plot([\"2-1\",\"4-1\",\"8-1\"], time2, color='blue',label=\"Q=2\") \n",
    "plt.plot([\"2-1\",\"4-1\",\"8-1\"], time3, color='green',label=\"Q=3\") \n",
    "\n",
    "plt.legend()\n",
    "plt.show()"
   ]
  },
  {
   "cell_type": "markdown",
   "id": "1e729938",
   "metadata": {},
   "source": [
    "### While changing only reducers and mapper=1 for question 1, 2 and 3"
   ]
  },
  {
   "cell_type": "code",
   "execution_count": 32,
   "id": "9e58e9a3",
   "metadata": {},
   "outputs": [
    {
     "data": {
      "image/png": "[encoded data removed]",
      "text/plain": [
       "<Figure size 432x288 with 1 Axes>"
      ]
     },
     "metadata": {
      "needs_background": "light"
     },
     "output_type": "display_data"
    }
   ],
   "source": [
    "time1=[76.94,76.30,74.85]\n",
    "time2=[64.39,64.05,65.44]\n",
    "time3=[61.66,60.21,62.51]\n",
    "plt.title('Time Vs Number of Mappers and Reducers') \n",
    "plt.xlabel('Number of Mappers and Reducers (x-y)') \n",
    "plt.ylabel('Time taken in seconds')\n",
    "plt.plot([\"1-2\",\"1-4\",\"1-8\"], time1, color='red',label=\"Q=1\") \n",
    "plt.plot([\"1-2\",\"1-4\",\"1-8\"], time2, color='blue',label=\"Q=2\") \n",
    "plt.plot([\"1-2\",\"1-4\",\"1-8\"], time3, color='green',label=\"Q=3\") \n",
    "\n",
    "plt.legend()\n",
    "plt.show()"
   ]
  },
  {
   "cell_type": "code",
   "execution_count": null,
   "id": "fc726759",
   "metadata": {},
   "outputs": [],
   "source": []
  }
 ],
 "metadata": {
  "kernelspec": {
   "display_name": "Python 3 (ipykernel)",
   "language": "python",
   "name": "python3"
  },
  "language_info": {
   "codemirror_mode": {
    "name": "ipython",
    "version": 3
   },
   "file_extension": ".py",
   "mimetype": "text/x-python",
   "name": "python",
   "nbconvert_exporter": "python",
   "pygments_lexer": "ipython3",
   "version": "3.8.8"
  }
 },
 "nbformat": 4,
 "nbformat_minor": 5
}
